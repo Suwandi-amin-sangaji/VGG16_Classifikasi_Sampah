{
  "nbformat": 4,
  "nbformat_minor": 0,
  "metadata": {
    "colab": {
      "name": "sampah.ipynb",
      "private_outputs": true,
      "provenance": [],
      "collapsed_sections": [],
      "mount_file_id": "1aQTgF68M2V5YV0eHmRXYhxaIjYNy-rtK",
      "authorship_tag": "ABX9TyMZB/2mSHW7Q4E5x0fAljJr",
      "include_colab_link": true
    },
    "kernelspec": {
      "name": "python3",
      "display_name": "Python 3"
    },
    "language_info": {
      "name": "python"
    }
  },
  "cells": [
    {
      "cell_type": "markdown",
      "metadata": {
        "id": "view-in-github",
        "colab_type": "text"
      },
      "source": [
        "<a href=\"https://colab.research.google.com/github/Suwandi-amin-sangaji/VGG16_Classifikasi_Sampah/blob/main/sampah.ipynb\" target=\"_parent\"><img src=\"https://colab.research.google.com/assets/colab-badge.svg\" alt=\"Open In Colab\"/></a>"
      ]
    },
    {
      "cell_type": "code",
      "source": [
        "# import keras, tensorflow dan VGG16\n",
        "import tensorflow as tf\n",
        "from tensorflow.keras.applications import VGG16\n",
        "from tensorflow import keras\n",
        "import keras_preprocessing\n",
        "from keras_preprocessing import image\n",
        "from keras_preprocessing.image import ImageDataGenerator\n",
        "from tensorflow.keras.models import Sequential\n",
        "import matplotlib.pyplot as plt\n",
        "from keras.utils.vis_utils import plot_model\n",
        "from keras.preprocessing import image"
      ],
      "metadata": {
        "id": "MdSiP77A-DFj"
      },
      "execution_count": null,
      "outputs": []
    },
    {
      "cell_type": "code",
      "source": [
        "from google.colab import drive\n",
        "drive.mount('/content/drive')"
      ],
      "metadata": {
        "id": "mYRFvJzTRAFp"
      },
      "execution_count": null,
      "outputs": []
    },
    {
      "cell_type": "code",
      "source": [
        "base_dir = '/content/drive/MyDrive/dataset/datasets-plastik'"
      ],
      "metadata": {
        "id": "WbioqMyijhKr"
      },
      "execution_count": null,
      "outputs": []
    },
    {
      "cell_type": "code",
      "execution_count": null,
      "metadata": {
        "id": "Vgk2Zh3EZL4E"
      },
      "outputs": [],
      "source": [
        "import os\n",
        "# Mengambil data traning\n",
        "train_dir = os.path.join(base_dir, 'train')\n",
        "# mengambil data validation\n",
        "val_dir = os.path.join(base_dir, 'val')\n",
        "\n",
        "# nama p[ada setiap class/kategori\n",
        "class_name = ['hdpe','ldpe','other','pet','pp','ps','pvc']"
      ]
    },
    {
      "cell_type": "code",
      "source": [
        "# mengambil data setip classnya\n",
        "train_hdpe_dir = os.path.join(base_dir, 'train/hdpe')\n",
        "train_ldpe_dir = os.path.join(base_dir, 'train/ldpe')\n",
        "train_other_dir = os.path.join(base_dir, 'train/other')\n",
        "train_pet_dir = os.path.join(base_dir, 'train/pet')\n",
        "train_pp_dir = os.path.join(base_dir, 'train/pp')\n",
        "train_ps_dir = os.path.join(base_dir, 'train/ps')\n",
        "train_pvc_dir = os.path.join(base_dir, 'train/pvc')\n",
        "\n",
        "val_hdpe_dir = os.path.join(base_dir, 'val/hdpe')\n",
        "val_ldpe_dir = os.path.join(base_dir, 'val/ldpe')\n",
        "val_other_dir = os.path.join(base_dir, 'val/other')\n",
        "val_pet_dir = os.path.join(base_dir, 'val/pet')\n",
        "val_pp_dir = os.path.join(base_dir, 'val/pp')\n",
        "val_ps_dir = os.path.join(base_dir, 'val/ps')\n",
        "val_pvc_dir = os.path.join(base_dir, 'val/pvc')"
      ],
      "metadata": {
        "id": "U0w69YTiRfPY"
      },
      "execution_count": null,
      "outputs": []
    },
    {
      "cell_type": "code",
      "source": [
        "# melihat isi\n",
        "train_hdpe_fnames = os.listdir(train_hdpe_dir)\n",
        "train_ldpe_fnames= os.listdir(train_ldpe_dir)\n",
        "train_other_fnames = os.listdir(train_other_dir)\n",
        "train_pet_fnames = os.listdir(train_pet_dir)\n",
        "train_pp_fnames = os.listdir(train_pp_dir)\n",
        "train_ps_fnames = os.listdir(train_ps_dir)\n",
        "train_pvc_fnames = os.listdir(train_pvc_dir)\n",
        "\n",
        "print(train_hdpe_fnames[:7])\n",
        "print(train_ldpe_fnames[:7])\n",
        "print(train_other_fnames[:7])\n",
        "print(train_pet_fnames[:7])\n",
        "print(train_pp_fnames[:7])\n",
        "print(train_ps_fnames[:7])\n",
        "print(train_pvc_fnames[:7])\n"
      ],
      "metadata": {
        "id": "obpIvgEDLQU8"
      },
      "execution_count": null,
      "outputs": []
    },
    {
      "cell_type": "code",
      "source": [
        "from keras.preprocessing import image\n",
        "from keras.applications.vgg16 import preprocess_input\n",
        "import numpy as np\n",
        "from PIL import Image\n",
        "plt.figure(figsize=(30,14))\n",
        "\n",
        "for i in range(7):\n",
        "    directory = os.path.join(train_dir, class_name[i])\n",
        "    for j in range(5):\n",
        "        path = os.path.join(directory, os.listdir(directory)[j])\n",
        "        img = Image.open(path)\n",
        "        \n",
        "        plt.subplot(7, 5, i*5 + j + 1)\n",
        "        plt.imshow(img)\n",
        "        \n",
        "        if j == 0:\n",
        "            plt.ylabel(class_name[i], fontsize=20)\n",
        "        \n",
        "plt.setp(plt.gcf().get_axes(), xticks=[], yticks=[]);\n",
        "plt.tight_layout()\n",
        "plt.show()"
      ],
      "metadata": {
        "id": "5ixtRMeo-5Qk"
      },
      "execution_count": null,
      "outputs": []
    },
    {
      "cell_type": "code",
      "source": [
        "print(\"total traning hdpe images : \", len(train_hdpe_fnames))\n",
        "print(\"total traning ldpe images : \", len(train_ldpe_fnames))\n",
        "print(\"total traning other images : \", len(train_other_fnames))\n",
        "print(\"total traning pet images : \", len(train_pet_fnames))\n",
        "print(\"total traning pp images : \", len(train_pp_fnames))\n",
        "print(\"total traning ps images : \", len(train_ps_fnames))\n",
        "print(\"total traning pvc images : \", len(train_pvc_fnames))\n",
        "print('=====================================================')\n",
        "\n",
        "print(\"total validation hdpe images : \", len(val_hdpe_dir))\n",
        "print(\"total validation ldpe images : \", len(val_ldpe_dir))\n",
        "print(\"total validation other images : \", len(val_other_dir))\n",
        "print(\"total validation pet images : \", len(val_pet_dir))\n",
        "print(\"total validation pp images : \", len(val_pp_dir))\n",
        "print(\"total validation ps images : \", len(val_ps_dir))\n",
        "print(\"total validation pvc images : \", len(val_pvc_dir))"
      ],
      "metadata": {
        "id": "JUKd72_qLUd9"
      },
      "execution_count": null,
      "outputs": []
    },
    {
      "cell_type": "code",
      "source": [
        "# membuat arsitektur jaringan untuk klasifikasi\n",
        "# menggunakan VGG16\n",
        "conv_base = VGG16(include_top=False, weights='imagenet',  input_shape=(150,150,3))\n",
        "conv_base.trainable = False"
      ],
      "metadata": {
        "id": "f3E0DDF2WQKa"
      },
      "execution_count": null,
      "outputs": []
    },
    {
      "cell_type": "code",
      "source": [
        "# Model Jaringan dengan model Squendtial\n",
        "model = tf.keras.models.Sequential([\n",
        "                                    conv_base,\n",
        "                                    tf.keras.layers.Flatten(),\n",
        "                                    tf.keras.layers.Dropout(0.5),\n",
        "                                    tf.keras.layers.Dense(512, activation='relu'),\n",
        "                                    tf.keras.layers.Dense(7, activation='softmax')\n",
        "])\n",
        "\n",
        "model.summary()"
      ],
      "metadata": {
        "id": "n_F4YF1cW5Nl"
      },
      "execution_count": null,
      "outputs": []
    },
    {
      "cell_type": "code",
      "source": [
        "plot_model(model)"
      ],
      "metadata": {
        "id": "aAHO6bNDFBks"
      },
      "execution_count": null,
      "outputs": []
    },
    {
      "cell_type": "code",
      "source": [
        "opt = keras.optimizers.Adam(learning_rate=0.01)\n",
        "model.compile(loss = 'categorical_crossentropy', optimizer=opt, metrics=['acc'])"
      ],
      "metadata": {
        "id": "rqjzw43vX7um"
      },
      "execution_count": null,
      "outputs": []
    },
    {
      "cell_type": "code",
      "source": [
        "# augmentasi data\n",
        "train_datagen = ImageDataGenerator(\n",
        "    rescale=1./255,\n",
        "    rotation_range=40,\n",
        "    width_shift_range=0.2,\n",
        "    height_shift_range=0.2,\n",
        "    shear_range=0.3,\n",
        "    zoom_range=0.3,\n",
        "    horizontal_flip=True,\n",
        "    fill_mode='nearest'\n",
        ")\n",
        "\n",
        "val_datagen = ImageDataGenerator(rescale=1./255)"
      ],
      "metadata": {
        "id": "W9Af744PZFVb"
      },
      "execution_count": null,
      "outputs": []
    },
    {
      "cell_type": "code",
      "source": [
        "# terus memasukkan dataset ke dalam model\n",
        "train_generator = train_datagen.flow_from_directory(\n",
        "    train_dir,\n",
        "    target_size=(150,150),\n",
        "    class_mode='categorical',\n",
        "    batch_size = 32\n",
        ")\n",
        "\n",
        "val_generator = val_datagen.flow_from_directory(\n",
        "    val_dir,\n",
        "    target_size=(150,150),\n",
        "    class_mode='categorical',\n",
        "    batch_size=32\n",
        ")"
      ],
      "metadata": {
        "id": "D14xE-_Ka6py"
      },
      "execution_count": null,
      "outputs": []
    },
    {
      "cell_type": "code",
      "source": [
        "from keras.callbacks import EarlyStopping\n",
        "\n",
        "early_stopping = EarlyStopping(\n",
        "    monitor='val_loss',\n",
        "    min_delta=0.001,\n",
        "    patience=3,\n",
        "    verbose=1\n",
        ")\n",
        "\n",
        "cb = [early_stopping]"
      ],
      "metadata": {
        "id": "2StvV3ewe-au"
      },
      "execution_count": null,
      "outputs": []
    },
    {
      "cell_type": "code",
      "source": [
        "from keras import callbacks\n",
        "history = model.fit(\n",
        "    train_generator,\n",
        "    epochs=50,\n",
        "    validation_data = val_generator,\n",
        "    callbacks= cb\n",
        ")"
      ],
      "metadata": {
        "id": "roh3w0TxHo4C"
      },
      "execution_count": null,
      "outputs": []
    },
    {
      "cell_type": "code",
      "source": [
        "#evulate model\n",
        "model.evaluate(val_generator)"
      ],
      "metadata": {
        "id": "M91Zrz-zMpa_"
      },
      "execution_count": null,
      "outputs": []
    },
    {
      "cell_type": "code",
      "source": [
        "#plotting training values\n",
        "import matplotlib.pyplot as plt\n",
        "import seaborn as sns\n",
        "sns.set()\n",
        "\n",
        "train_acc = history.history['acc']\n",
        "val_acc = history.history['val_acc']\n",
        "train_loss = history.history['loss']\n",
        "val_loss = history.history['val_loss']\n",
        "\n",
        "epochs = range(1, len(train_acc) + 1)\n",
        "plt.figure(figsize=(10,6))\n",
        "plt.plot(epochs, train_acc, 'b*-', label = 'Training accuracy')\n",
        "plt.plot(epochs, val_acc, 'r', label = 'Validation accuracy')\n",
        "plt.title('Training and validation accuracy')\n",
        "plt.legend()\n",
        "plt.figure()\n",
        "plt.show()"
      ],
      "metadata": {
        "id": "eo0eVKS_NUoJ"
      },
      "execution_count": null,
      "outputs": []
    },
    {
      "cell_type": "code",
      "source": [
        "plt.figure(figsize=(10,6))\n",
        "plt.plot(epochs, train_loss, 'b*-', label = 'Training loss')\n",
        "plt.plot(epochs, val_loss, 'r', label = 'Validation loss')\n",
        "plt.title('Training and validation loss')\n",
        "plt.legend()\n",
        "plt.show()"
      ],
      "metadata": {
        "id": "quPv0CoXFdCU"
      },
      "execution_count": null,
      "outputs": []
    },
    {
      "cell_type": "code",
      "source": [
        "# SaveModel\n",
        "model.save('model.h5')\n",
        "model.save('/content/drive/MyDrive/dataset/datasets-plastik')"
      ],
      "metadata": {
        "id": "50fs7nYU0u2P"
      },
      "execution_count": null,
      "outputs": []
    },
    {
      "cell_type": "code",
      "source": [
        "classes = ['ldpe','hdpe','other','pet','pp','ps','pvc']"
      ],
      "metadata": {
        "id": "n5Pd5MvDTBCk"
      },
      "execution_count": null,
      "outputs": []
    },
    {
      "cell_type": "code",
      "source": [
        "#test prediksi\n",
        "image_path = \"/content/drive/MyDrive/dataset/datasets-plastik/train/other/IMG_20191229_142215.jpg\"\n",
        "new_img = image.load_img(image_path, target_size=(150, 150))\n",
        "img = image.img_to_array(new_img)\n",
        "img = np.expand_dims(img, axis=0)\n",
        "prediction = model.predict(img, batch_size=10)\n",
        "prediction = np.argmax(prediction,axis=1)\n",
        "print(prediction)\n",
        "print(classes[prediction[0]])\n",
        "plt.imshow(new_img)"
      ],
      "metadata": {
        "id": "xpIoT-roVJCu"
      },
      "execution_count": null,
      "outputs": []
    }
  ]
}